{
 "cells": [
  {
   "cell_type": "markdown",
   "metadata": {},
   "source": [
    "# 贝叶斯网络"
   ]
  },
  {
   "cell_type": "code",
   "execution_count": 1,
   "metadata": {},
   "outputs": [],
   "source": [
    "import numpy as np\n",
    "\n",
    "train_data = np.loadtxt(\"./data/train.csv\", delimiter=\",\", dtype=np.uint8)\n",
    "test_data = np.loadtxt(\"./data/test.csv\", delimiter=\",\", dtype=np.uint8)\n",
    "pixels_train, labels_train = train_data[:, :-1], train_data[:, -1]\n",
    "pixels_test, labels_test = test_data[:, :-1], test_data[:, -1]"
   ]
  },
  {
   "cell_type": "code",
   "execution_count": 2,
   "metadata": {},
   "outputs": [],
   "source": [
    "import numpy as np\n",
    "\n",
    "\n",
    "class BayesianNetwork:\n",
    "    def __init__(self, n_labels=10, n_pixels=784, n_values=2) -> None:\n",
    "        \"\"\"\n",
    "        n_labels: number of labels, 10 for digit recognition\n",
    "        n_pixels: number of pixels, 256 for 16x16 image\n",
    "        n_values: number of values for each pixel, 0 for black, 1 for white\n",
    "        \"\"\"\n",
    "        self.n_labels = n_labels\n",
    "        self.n_pixels = n_pixels\n",
    "        self.n_values = n_values\n",
    "        # prior probability\n",
    "        self.labels_prior = np.zeros(n_labels)\n",
    "        self.pixels_prior = np.zeros((n_pixels, n_values))\n",
    "        # conditional probability\n",
    "        self.pixels_cond_label = np.zeros((n_pixels, n_values, n_labels))\n",
    "\n",
    "    # fit the model with training data\n",
    "    def fit(self, pixels, labels):\n",
    "        \"\"\"\n",
    "        pixels: (n_samples, n_pixels, )\n",
    "        labels: (n_samples, )\n",
    "        \"\"\"\n",
    "        n_samples = len(labels)\n",
    "        # TODO: calculate prior probability and conditional probability\n",
    "        for i in range(self.n_labels):\n",
    "            self.labels_prior[i] = np.sum(labels == i) / n_samples\n",
    "        for i in range(self.n_pixels):\n",
    "            for j in range(self.n_values):\n",
    "                for k in range(self.n_labels):\n",
    "                    self.pixels_cond_label[i][j][k] = np.sum(\n",
    "                        (pixels[:, i] == j) & (labels == k)\n",
    "                    ) / np.sum(labels == k)\n",
    "\n",
    "    # predict the labels for new data\n",
    "    def predict(self, pixels):\n",
    "        \"\"\"\n",
    "        pixels: (n_samples, n_pixels, )\n",
    "        return labels: (n_samples, )\n",
    "        \"\"\"\n",
    "        n_samples = len(pixels)\n",
    "        labels = np.zeros(n_samples)\n",
    "        # TODO: predict for new data\n",
    "        for i in range(n_samples):\n",
    "            p = np.zeros(self.n_labels)\n",
    "            for j in range(self.n_labels):\n",
    "                p[j] = self.labels_prior[j]\n",
    "                for k in range(self.n_pixels):\n",
    "                    p[j] *= self.pixels_cond_label[k][pixels[i][k]][j]\n",
    "            labels[i] = np.argmax(p)\n",
    "\n",
    "        return labels\n",
    "\n",
    "    # calculate the score (accuracy) of the model\n",
    "    def score(self, pixels, labels):\n",
    "        \"\"\"\n",
    "        pixels: (n_samples, n_pixels, )\n",
    "        labels: (n_samples, )\n",
    "        \"\"\"\n",
    "        n_samples = len(labels)\n",
    "        labels_pred = self.predict(pixels)\n",
    "        return np.sum(labels_pred == labels) / n_samples"
   ]
  },
  {
   "cell_type": "code",
   "execution_count": 3,
   "metadata": {},
   "outputs": [
    {
     "name": "stdout",
     "output_type": "stream",
     "text": [
      "test score: 0.843800\n"
     ]
    }
   ],
   "source": [
    "bn = BayesianNetwork()\n",
    "bn.fit(pixels_train, labels_train)\n",
    "print(\"test score: %f\" % bn.score(pixels_test, labels_test))"
   ]
  },
  {
   "cell_type": "markdown",
   "metadata": {},
   "source": [
    "# LeNet5"
   ]
  },
  {
   "cell_type": "code",
   "execution_count": 4,
   "metadata": {},
   "outputs": [],
   "source": [
    "from torch.utils.data import DataLoader\n",
    "import torchvision.datasets as datasets\n",
    "import torchvision.transforms as transforms\n",
    "\n",
    "transform = transforms.Compose(\n",
    "    [transforms.ToTensor(), transforms.Normalize(mean=(0.5), std=(0.5))]\n",
    ")\n",
    "train_set = datasets.MNIST(\n",
    "    root=\"./data\", train=True, download=False, transform=transform\n",
    ")\n",
    "val_set = datasets.MNIST(\n",
    "    root=\"./data\", train=False, download=False, transform=transform\n",
    ")\n",
    "train_loader = DataLoader(train_set, batch_size=32, shuffle=True, num_workers=0)\n",
    "val_loader = DataLoader(val_set, batch_size=10000, shuffle=False, num_workers=0)"
   ]
  },
  {
   "cell_type": "code",
   "execution_count": 5,
   "metadata": {},
   "outputs": [],
   "source": [
    "import numpy as np\n",
    "from torch.utils.data import Dataset\n",
    "from torch.utils.data import DataLoader\n",
    "from torch import tensor\n",
    "\n",
    "\n",
    "class MyMNIST(Dataset):\n",
    "    def __init__(self, train) -> None:\n",
    "        super().__init__()\n",
    "        if train:\n",
    "            data = np.loadtxt(\"./data/train.csv\", delimiter=\",\", dtype=np.float32)\n",
    "        else:\n",
    "            data = np.loadtxt(\"./data/test.csv\", delimiter=\",\", dtype=np.float32)\n",
    "        self.pixels, self.labels = data[:, :-1], data[:, -1]\n",
    "        self.pixels = self.pixels.reshape(-1, 1, 28, 28)\n",
    "        self.pixels = tensor(self.pixels)\n",
    "        self.labels = tensor(self.labels).long()\n",
    "\n",
    "    def __getitem__(self, index):\n",
    "        return self.pixels[index], self.labels[index]\n",
    "\n",
    "    def __len__(self):\n",
    "        return len(self.labels)\n",
    "\n",
    "\n",
    "train_set = MyMNIST(train=True)\n",
    "val_set = MyMNIST(train=False)\n",
    "train_loader = DataLoader(train_set, batch_size=32, shuffle=True, num_workers=0)\n",
    "val_loader = DataLoader(val_set, batch_size=10000, shuffle=False, num_workers=0)"
   ]
  },
  {
   "cell_type": "code",
   "execution_count": 6,
   "metadata": {},
   "outputs": [],
   "source": [
    "from torch.utils.data import DataLoader\n",
    "import torchvision.datasets as datasets\n",
    "import torchvision.transforms as transforms\n",
    "\n",
    "transform = transforms.Compose(\n",
    "    [transforms.ToTensor()]\n",
    ")\n",
    "train_set = datasets.FashionMNIST(\n",
    "    root=\"./data\", train=True, download=True, transform=transform\n",
    ")\n",
    "val_set = datasets.FashionMNIST(\n",
    "    root=\"./data\", train=False, download=True, transform=transform\n",
    ")\n",
    "train_loader = DataLoader(train_set, batch_size=32, shuffle=True, num_workers=0)\n",
    "val_loader = DataLoader(val_set, batch_size=10000, shuffle=False, num_workers=0)"
   ]
  },
  {
   "cell_type": "code",
   "execution_count": 7,
   "metadata": {},
   "outputs": [
    {
     "data": {
      "image/png": "[encoded data removed]",
      "text/plain": [
       "<Figure size 640x480 with 16 Axes>"
      ]
     },
     "metadata": {},
     "output_type": "display_data"
    }
   ],
   "source": [
    "import matplotlib.pyplot as plt\n",
    "\n",
    "val_data_iter = iter(val_loader)\n",
    "val_image, val_label = next(val_data_iter)\n",
    "plt.figure()\n",
    "for i in range(16):\n",
    "    plt.subplot(4, 4, i + 1)\n",
    "    plt.tight_layout()\n",
    "    plt.imshow(val_image[i][0], cmap=\"gray\", interpolation=\"none\")\n",
    "    plt.title(\"Ground Truth: {}\".format(val_label[i]))\n",
    "    plt.xticks([])\n",
    "    plt.yticks([])\n",
    "plt.show()"
   ]
  },
  {
   "cell_type": "code",
   "execution_count": 8,
   "metadata": {},
   "outputs": [],
   "source": [
    "import torch.nn as nn\n",
    "import torch.nn.functional as F\n",
    "\n",
    "\n",
    "class LeNet(nn.Module):\n",
    "    def __init__(self):\n",
    "        super(LeNet, self).__init__()\n",
    "        self.conv1 = nn.Conv2d(1, 6, 5)\n",
    "        self.pool1 = nn.MaxPool2d(2, 2)\n",
    "        self.conv2 = nn.Conv2d(6, 16, 5)\n",
    "        self.pool2 = nn.MaxPool2d(2, 2)\n",
    "        self.fc1 = nn.Linear(16 * 4 * 4, 120)\n",
    "        self.fc2 = nn.Linear(120, 84)\n",
    "        self.fc3 = nn.Linear(84, 10)\n",
    "\n",
    "    def forward(self, x):\n",
    "                                    \n",
    "        x = F.relu(self.conv1(x))         \n",
    "        x = self.pool1(x)                 \n",
    "        x = F.relu(self.conv2(x))         \n",
    "        x = self.pool2(x)                 \n",
    "        x = x.view(x.size()[0], -1)       \n",
    "        x = F.relu(self.fc1(x))           \n",
    "        x = F.relu(self.fc2(x))           \n",
    "        x = self.fc3(x)                   \n",
    "        return x"
   ]
  },
  {
   "cell_type": "code",
   "execution_count": 9,
   "metadata": {},
   "outputs": [
    {
     "name": "stdout",
     "output_type": "stream",
     "text": [
      "using cuda device.\n",
      "----------------------------------------------------------------\n",
      "        Layer (type)               Output Shape         Param #\n",
      "================================================================\n",
      "            Conv2d-1            [-1, 6, 24, 24]             156\n",
      "         MaxPool2d-2            [-1, 6, 12, 12]               0\n",
      "            Conv2d-3             [-1, 16, 8, 8]           2,416\n",
      "         MaxPool2d-4             [-1, 16, 4, 4]               0\n",
      "            Linear-5                  [-1, 120]          30,840\n",
      "            Linear-6                   [-1, 84]          10,164\n",
      "            Linear-7                   [-1, 10]             850\n",
      "================================================================\n",
      "Total params: 44,426\n",
      "Trainable params: 44,426\n",
      "Non-trainable params: 0\n",
      "----------------------------------------------------------------\n",
      "Input size (MB): 0.00\n",
      "Forward/backward pass size (MB): 0.04\n",
      "Params size (MB): 0.17\n",
      "Estimated Total Size (MB): 0.22\n",
      "----------------------------------------------------------------\n"
     ]
    }
   ],
   "source": [
    "import torch\n",
    "from torchsummary import summary\n",
    "\n",
    "device = torch.device(\"cuda\" if torch.cuda.is_available() else \"cpu\")\n",
    "print(\"using {} device.\".format(device))\n",
    "net = LeNet()\n",
    "net.to(device)\n",
    "summary(net, input_size=(1, 28, 28), device=\"cuda\")"
   ]
  },
  {
   "cell_type": "code",
   "execution_count": 10,
   "metadata": {},
   "outputs": [
    {
     "name": "stderr",
     "output_type": "stream",
     "text": [
      "  0%|          | 0/5 [00:00<?, ?it/s]"
     ]
    },
    {
     "name": "stderr",
     "output_type": "stream",
     "text": [
      "Step: 1500 Train_loss: 0.301 Acc: 8778/10000(88%): 100%|██████████| 5/5 [01:27<00:00, 17.52s/it]\n"
     ]
    },
    {
     "name": "stdout",
     "output_type": "stream",
     "text": [
      "Finished Training\n"
     ]
    },
    {
     "data": {
      "image/png": "[encoded data removed]",
      "text/plain": [
       "<Figure size 640x480 with 1 Axes>"
      ]
     },
     "metadata": {},
     "output_type": "display_data"
    }
   ],
   "source": [
    "import torch\n",
    "import torch.nn as nn\n",
    "import torch.optim as optim\n",
    "from tqdm import tqdm\n",
    "\n",
    "loss_function = nn.CrossEntropyLoss()\n",
    "optimizer = optim.Adam(net.parameters())\n",
    "tr_loss = []\n",
    "val_acc = []\n",
    "progress_bar = tqdm(range(5))\n",
    "\n",
    "for iter in progress_bar:\n",
    "    running_loss = 0.0\n",
    "    for step, data in enumerate(train_loader, start=0):\n",
    "        inputs, labels = data\n",
    "        optimizer.zero_grad()\n",
    "        outputs = net(inputs.to(device))\n",
    "        loss = loss_function(outputs, labels.to(device))\n",
    "        loss.backward()\n",
    "        optimizer.step()\n",
    "        running_loss += loss.item()\n",
    "        if step % 500 == 499:\n",
    "            with torch.no_grad():\n",
    "                outputs = net(val_image.to(device))\n",
    "                predict_y = torch.max(outputs, dim=1)[1]\n",
    "                accuracy = torch.eq(\n",
    "                    predict_y, val_label.to(device)\n",
    "                ).sum().item() / val_label.size(0)\n",
    "                tr_loss.append(running_loss / 500)\n",
    "                val_acc.append(accuracy)\n",
    "                progress_bar.set_description(\n",
    "                    \"Step: %d Train_loss: %.3f Acc: %d/%d(%.0f%%)\"\n",
    "                    % (\n",
    "                        step + 1,\n",
    "                        running_loss / 500,\n",
    "                        torch.eq(predict_y, val_label.to(device)).sum().item(),\n",
    "                        val_label.size(0),\n",
    "                        100.0 * accuracy,\n",
    "                    )\n",
    "                )\n",
    "                running_loss = 0.0\n",
    "\n",
    "print(\"Finished Training\")\n",
    "plt.plot(tr_loss, label=\"loss\")\n",
    "plt.plot(val_acc, label=\"accuracy\")\n",
    "plt.legend()\n",
    "plt.show()"
   ]
  },
  {
   "cell_type": "code",
   "execution_count": 71,
   "metadata": {},
   "outputs": [
    {
     "name": "stdout",
     "output_type": "stream",
     "text": [
      "Time: 0.0162 s\n",
      "Accuracy: 0.8983\n"
     ]
    }
   ],
   "source": [
    "import torch\n",
    "import matplotlib.pyplot as plt\n",
    "import time\n",
    "\n",
    "net = LeNet()\n",
    "net.load_state_dict(torch.load('./model.pth'))\n",
    "device = torch.device(\"cuda\" if torch.cuda.is_available() else \"cpu\")\n",
    "net.to(device)\n",
    "\n",
    "start = time.time()\n",
    "with torch.no_grad():\n",
    "    output = net(val_image.to(device))\n",
    "end = time.time()\n",
    "print(\"Time: %.4f s\" % (end - start))\n",
    "\n",
    "output = torch.max(output, dim=1)[1]\n",
    "cmp = torch.eq(output, val_label.to(device)).to(\"cpu\")\n",
    "accuracy = cmp.sum().item() / val_label.size(0)\n",
    "print(\"Accuracy: %.4f\" % accuracy)\n",
    "# error_data = val_image[cmp == False]\n",
    "# error_label  = val_label[cmp == False]\n",
    "# error_output = output[cmp == False]\n",
    "# plt.figure(figsize=(10,10))\n",
    "# for i in range(16):\n",
    "#     plt.subplot(4, 4, i + 1)\n",
    "#     plt.tight_layout()\n",
    "#     plt.imshow(error_data[i][0], cmap=\"gray\", interpolation=\"none\")\n",
    "#     plt.title(\"Prediction: {}, Ground Truth: {}\".format(error_label[i], error_output[i]))\n",
    "#     plt.xticks([])\n",
    "#     plt.yticks([])\n",
    "# plt.show()"
   ]
  },
  {
   "cell_type": "code",
   "execution_count": null,
   "metadata": {},
   "outputs": [],
   "source": [
    "import numpy as np\n",
    "for name, param in net.named_parameters():\n",
    "    np.savetxt(f'./weight2/{name}.txt', param.cpu().detach().numpy().flatten())"
   ]
  }
 ],
 "metadata": {
  "kernelspec": {
   "display_name": "ml",
   "language": "python",
   "name": "python3"
  },
  "language_info": {
   "codemirror_mode": {
    "name": "ipython",
    "version": 3
   },
   "file_extension": ".py",
   "mimetype": "text/x-python",
   "name": "python",
   "nbconvert_exporter": "python",
   "pygments_lexer": "ipython3",
   "version": "3.9.13"
  }
 },
 "nbformat": 4,
 "nbformat_minor": 2
}
